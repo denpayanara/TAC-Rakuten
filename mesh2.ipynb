{
 "cells": [
  {
   "cell_type": "code",
   "execution_count": null,
   "metadata": {},
   "outputs": [],
   "source": [
    "import geopandas as gpd\n",
    "import pandas as pd"
   ]
  },
  {
   "cell_type": "code",
   "execution_count": null,
   "metadata": {},
   "outputs": [],
   "source": [
    "gdf_mesh = gpd.read_file('1km_mesh_suikei_2018_shape_27.zip!1km_mesh_2018_27.shp').loc[:, [\"MESH_ID\", \"SHICODE\", \"geometry\"]]\n",
    "gdf_mesh"
   ]
  },
  {
   "cell_type": "code",
   "execution_count": null,
   "metadata": {},
   "outputs": [],
   "source": [
    "# http://cellmap.rukihena.com/mls44011.json\n",
    "df_MLS_1 = pd.read_json('mls44011.json').fillna('')\n",
    "df_MLS_1"
   ]
  },
  {
   "cell_type": "code",
   "execution_count": null,
   "metadata": {},
   "outputs": [],
   "source": [
    "# ECI(cell)範囲指定\n",
    "# https://mls.js2hgw.com/wiki/?用語集#a19d1c53\n",
    "\n",
    "# PCI(unit)範囲指定しマクロセルを抽出\n",
    "# https://mls.js2hgw.com/wiki/?用語集#k2c8cab6\n",
    "\n",
    "df_MLS_2 = df_MLS_1.query('(226492172 >= cell >= 4194305) & (389 >= unit >= 0) & (area < 49154)').copy()\n",
    "df_MLS_2"
   ]
  },
  {
   "cell_type": "code",
   "execution_count": null,
   "metadata": {},
   "outputs": [],
   "source": [
    "# 特殊TAC + 都道府県別TAC (移動局・Casaは除く)\n",
    "TAC = [111, 112, 113, 114, 211, 212, 213, 214, 311, 312, 313, 314, 1025, 1026, 1027, 1028, 1029, 2049, 2050, 3073, 3074, 4097, 4098, 5121, 5122, 6145, 6146, 7169, 7170, 7171, 8193, 8194, 8195, 8196, 9217, 9218, 10241, 10242, 11265, 11266, 11267, 11268, 12289, 12290, 12291, 12292, 13313, 13314, 13315, 13316, 15361, 15362, 15363, 15364, 15365, 15366, 16385, 16386, 16387, 17409, 18433, 19457, 20481, 21505, 21506, 21507, 22529, 22530, 22531, 23553, 23554, 23555, 23556, 24577, 24578, 24579, 24580, 25511, 25512, 25513, 25514, 25601, 25602, 26625, 26626, 27649, 27650, 28673, 28674, 28675, 29697, 29698, 29699, 29700, 30721, 30722, 31745, 31746, 32769, 33411, 33793, 33794, 34817, 34818, 34819, 35841, 35842, 35843, 36865, 36866, 37889, 38913, 39937, 39938, 40961, 40962, 41985, 41986, 41987, 41988, 41989, 41990, 43009, 43010, 44033, 44034, 45057, 45058, 45059, 46081, 46082, 47105, 47106, 48129, 48130, 49153, 49154]\n",
    "\n",
    "df_MLS_3 = df_MLS_2[df_MLS_2['area'].isin(TAC)]\n",
    "df_MLS_3"
   ]
  },
  {
   "cell_type": "code",
   "execution_count": null,
   "metadata": {},
   "outputs": [],
   "source": [
    "# 緯度経度をgeometryに変換\n",
    "gdf_MLS = gpd.GeoDataFrame(df_MLS_3, geometry = gpd.points_from_xy(df_MLS_3.lon, df_MLS_3.lat), crs=\"EPSG:6668\")\n",
    "gdf_MLS"
   ]
  },
  {
   "cell_type": "code",
   "execution_count": null,
   "metadata": {},
   "outputs": [],
   "source": [
    "# print(gdf_mesh.crs) epsg:4612\n",
    "# print(gdf_MLS.crs) EPSG:6668\n",
    "\n",
    "gdf_mesh = gdf_mesh.to_crs(epsg=6668)"
   ]
  },
  {
   "cell_type": "code",
   "execution_count": null,
   "metadata": {},
   "outputs": [],
   "source": [
    "mergedGdf = gpd.sjoin(gdf_mesh, gdf_MLS[['area', 'samples', 'geometry']])\n",
    "mergedGdf = mergedGdf[['MESH_ID', 'SHICODE', 'area', 'samples', 'geometry']].copy()\n",
    "mergedGdf.sort_values('MESH_ID', inplace=True)\n",
    "mergedGdf.reset_index(drop=True, inplace=True)\n",
    "mergedGdf"
   ]
  },
  {
   "cell_type": "code",
   "execution_count": null,
   "metadata": {},
   "outputs": [],
   "source": [
    "df0 = pd.DataFrame(mergedGdf)\n",
    "df1 = df0.loc[df0.groupby('MESH_ID')['samples'].idxmax()]\n",
    "df1.sort_values('MESH_ID', inplace=True)\n",
    "df1.reset_index(drop=True, inplace=True)\n",
    "df1"
   ]
  },
  {
   "cell_type": "code",
   "execution_count": null,
   "metadata": {},
   "outputs": [],
   "source": [
    "gdf_TAC = gpd.GeoDataFrame(df1[['area', 'geometry']], crs='EPSG:6668')\n",
    "gdf_TAC = gdf_TAC.dissolve(by = 'area', as_index = False)\n",
    "gdf_TAC"
   ]
  },
  {
   "cell_type": "code",
   "execution_count": null,
   "metadata": {},
   "outputs": [],
   "source": [
    "import folium\n",
    "import branca.colormap as cm"
   ]
  },
  {
   "cell_type": "code",
   "execution_count": null,
   "metadata": {},
   "outputs": [],
   "source": [
    "colormap = cm.StepColormap(\n",
    "    colors=['#FF0000', '#FF9932', '#FFFF00', '#65FF32', '#008000', '#32CCFF', '#3265FF', '#FF32FF', '#ffffff', '#656565'],\n",
    "    vmin=0,\n",
    "    vmax=10,\n",
    "    index=[0, 1, 2, 3, 4, 5, 6, 7, 8, 9]\n",
    ")\n",
    "\n",
    "def ReturnNumber(nums):\n",
    "    str_nums = str(nums)\n",
    "    return int(str(int(str_nums[-1]) + int(str_nums[-2]))[-1])"
   ]
  },
  {
   "cell_type": "code",
   "execution_count": null,
   "metadata": {},
   "outputs": [],
   "source": [
    "# ベースマップ\n",
    "map = folium.Map(\n",
    "    tiles = None,\n",
    "    location = [34.5496419, 135.7788521],\n",
    "    zoom_start = 9,\n",
    "    control_scale = True\n",
    ")\n",
    "\n",
    "# 国土地理院(白地図)\n",
    "folium.raster_layers.TileLayer(\n",
    "    'https://cyberjapandata.gsi.go.jp/xyz/blank/{z}/{x}/{y}.png',\n",
    "    name = \"国土地理院(白地図)\",\n",
    "    attr = \"<a href='https://maps.gsi.go.jp/development/ichiran.html'>国土地理院</a>\"\n",
    ").add_to(map)\n",
    "\n",
    "# Googleマップ標準\n",
    "folium.raster_layers.TileLayer(\n",
    "    'https://{s}.google.com/vt/lyrs=m&x={x}&y={y}&z={z}',\n",
    "    subdomains = ['mt0','mt1','mt2','mt3'],\n",
    "    name = \"Google Map\",\n",
    "    attr = \"<a href='https://developers.google.com/maps/documentation' target='_blank'>Google Map</a>\"\n",
    ").add_to(map)"
   ]
  },
  {
   "cell_type": "code",
   "execution_count": null,
   "metadata": {},
   "outputs": [],
   "source": [
    "folium.GeoJson(\n",
    "    data = gdf_TAC.to_json(),\n",
    "    style_function = lambda x:{\n",
    "        \"fillColor\": colormap(ReturnNumber(x['properties']['area'])),\n",
    "        'fillOpacity': 0.7,\n",
    "        \"stroke\": False\n",
    "    },\n",
    "    name = 'TAC',\n",
    "    show = True,\n",
    "    tooltip = folium.features.GeoJsonTooltip(\n",
    "        fields=['area', ],\n",
    "        aliases=['TAC', ]\n",
    "    )\n",
    ").add_to(map)"
   ]
  },
  {
   "cell_type": "code",
   "execution_count": null,
   "metadata": {},
   "outputs": [],
   "source": [
    "# レイヤーコントロール\n",
    "folium.LayerControl().add_to(map)"
   ]
  },
  {
   "cell_type": "code",
   "execution_count": null,
   "metadata": {},
   "outputs": [],
   "source": [
    "map"
   ]
  }
 ],
 "metadata": {
  "language_info": {
   "name": "python"
  },
  "orig_nbformat": 4
 },
 "nbformat": 4,
 "nbformat_minor": 2
}
